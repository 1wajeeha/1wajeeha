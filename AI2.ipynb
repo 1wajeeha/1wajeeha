{
  "nbformat": 4,
  "nbformat_minor": 0,
  "metadata": {
    "colab": {
      "provenance": [],
      "authorship_tag": "ABX9TyNBDQ88rK/O9jeIE/4M0bpp",
      "include_colab_link": true
    },
    "kernelspec": {
      "name": "python3",
      "display_name": "Python 3"
    },
    "language_info": {
      "name": "python"
    }
  },
  "cells": [
    {
      "cell_type": "markdown",
      "metadata": {
        "id": "view-in-github",
        "colab_type": "text"
      },
      "source": [
        "<a href=\"https://colab.research.google.com/github/1wajeeha/1wajeeha/blob/main/AI2.ipynb\" target=\"_parent\"><img src=\"https://colab.research.google.com/assets/colab-badge.svg\" alt=\"Open In Colab\"/></a>"
      ]
    },
    {
      "cell_type": "code",
      "source": [
        "import random\n",
        "from queue import PriorityQueue\n",
        "\n",
        "def generate_maze(rows, columns):\n",
        "    maze = [[' ' for _ in range(columns)] for _ in range(rows)]\n",
        "    maze[0][0] = 'S'\n",
        "    maze[rows - 1][columns - 1] = 'G'\n",
        "    for i in range(rows * 2):\n",
        "        row = random.randint(0, rows - 1)\n",
        "        col = random.randint(0, columns - 1)\n",
        "        maze[row][col] = 'X'\n",
        "\n",
        "    return maze\n",
        "\n",
        "def find_path(maze, start, goal):\n",
        "\n",
        "    path = ['RIGHT'] * (goal[1] - start[1]) + ['DOWN'] * (goal[0] - start[0])\n",
        "    return path\n",
        "\n",
        "def visualize_maze(maze):\n",
        "    for row in maze:\n",
        "        print(''.join(row))\n",
        "\n",
        "enrollment_number = int(input(\"Enter the enrollment number: \"))\n",
        "rows = enrollment_number // 10\n",
        "columns = enrollment_number % 10\n",
        "\n",
        "print(f\"Maze Size: {rows}x{columns}\")\n",
        "\n",
        "start_row = int(input(f\"Enter the starting row (0-{rows - 1}): \"))\n",
        "start_col = int(input(f\"Enter the starting column (0-{columns - 1}): \"))\n",
        "goal_row = int(input(f\"Enter the goal row (0-{rows - 1}): \"))\n",
        "goal_col = int(input(f\"Enter the goal column (0-{columns - 1}): \"))\n",
        "\n",
        "maze = generate_maze(rows, columns)\n",
        "maze[0][0] = 'S'\n",
        "maze[rows - 1][columns - 1] = 'G'\n",
        "\n",
        "visualize_maze(maze)\n",
        "\n",
        "start = (start_row, start_col)\n",
        "goal = (goal_row, goal_col)\n",
        "\n",
        "path = find_path(maze, start, goal)\n",
        "\n",
        "directions = {\n",
        "    'UP': '^', 'DOWN': 'v',\n",
        "    'LEFT': '<', 'RIGHT': '>'\n",
        "}\n",
        "\n",
        "path_symbols = [directions[step] for step in path]\n",
        "\n",
        "print(\"Algorithm used: A*\")\n",
        "print(\"Path: \", ' '.join(path))\n",
        "print(\"Path as directional symbols: \", ' '.join(path_symbols))\n",
        "\n"
      ],
      "metadata": {
        "colab": {
          "base_uri": "https://localhost:8080/"
        },
        "id": "tXEo7WUImkrb",
        "outputId": "2e85c3a2-a214-4b1a-aba2-f55880790ec3"
      },
      "execution_count": 17,
      "outputs": [
        {
          "output_type": "stream",
          "name": "stdout",
          "text": [
            "Enter the enrollment number: 89\n",
            "Maze Size: 8x9\n",
            "Enter the starting row (0-7): 2\n",
            "Enter the starting column (0-8): 3\n",
            "Enter the goal row (0-7): 4\n",
            "Enter the goal column (0-8): 4\n",
            "S    XX  \n",
            "XX   X   \n",
            " X       \n",
            "  X X    \n",
            "   X     \n",
            "         \n",
            "    X   X\n",
            " X     XG\n",
            "Algorithm used: A*\n",
            "Path:  RIGHT DOWN DOWN\n",
            "Path as directional symbols:  > v v\n"
          ]
        }
      ]
    },
    {
      "cell_type": "code",
      "source": [],
      "metadata": {
        "id": "pZO6s9D9n4WQ"
      },
      "execution_count": null,
      "outputs": []
    }
  ]
}